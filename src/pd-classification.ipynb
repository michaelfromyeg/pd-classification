{
 "cells": [
  {
   "cell_type": "markdown",
   "metadata": {},
   "source": [
    "<center><h1>Parkinson's Disease Classification with KNN</h1></center>"
   ]
  },
  {
   "cell_type": "markdown",
   "metadata": {},
   "source": [
    "<subtitle><center>by Group 28 (Michael DeMarco, Philip Zhang, Chris Cai, Yuichi Ito)</center></subtitle>"
   ]
  },
  {
   "cell_type": "markdown",
   "metadata": {},
   "source": [
    "<img src=\"praat.png\" alt=\"Praat screenshot\" width=\"400\"/>\n",
    "\n",
    "<center><b>Figure 1</b> A screengrab from Praat, the acoustic analysis software used in collecting the data set</center>"
   ]
  },
  {
   "cell_type": "markdown",
   "metadata": {},
   "source": [
    "## Abstract\n",
    "\n",
    "This project aims to classify whether or not a given patient has Parkinson's disease based on various variables derived from their speech sounds. We used a KNN classification algorithm with six predictors to create a model with an accuracy of 80%. We concluded it's accuracy is satisfactory for the scope of DSCI 100, working with the tools we had, but not accurate enough for commercial use. We discussed how this study may be extended to other degenerative diseases. Finally, we elaborated on how one would make such a model usable by the public by providing a website frontend for collecting new data points to test.\n",
    "\n",
    "\n",
    "## Table of Contents\n",
    "\n",
    "- Introduction\n",
    "    - Background\n",
    "    - Question\n",
    "    - Data set\n",
    "- Methods\n",
    "    - Data wrangling and pre-processing\n",
    "    - Conducting the Classification Analysis\n",
    "    - Predictors\n",
    "    - Visualizing the Results\n",
    "- Exploration\n",
    "    - Preliminary exploratory data analysis in R\n",
    "    - Reading in the data\n",
    "    - Wrangling\n",
    "    - Creating the training and testing sets\n",
    "    - Training set in detail\n",
    "    - Predictors in detail\n",
    "- Hypothesis\n",
    "    - Expected Outcomes\n",
    "- Results\n",
    "    - Classification & Visualization\n",
    "- Discussion\n",
    "    - Summary\n",
    "    - Impact\n",
    "    - Next Steps\n",
    "- References\n",
    "    - Works Cited"
   ]
  },
  {
   "cell_type": "markdown",
   "metadata": {},
   "source": [
    "## 1 Introduction\n",
    "### Background\n",
    "Parkinson’s disease (PD) is a degenerative disorder of the central nervous system (CNS) which severely impacts motor control. Parkinson’s has neither a cure nor a known cause. Speech, however, is widely known to play a significant role in the detection of PD. According to Sakar<sup>1</sup> , vocal disorder exists in 90% of patients at an early stage.\n",
    "\n",
    "[1]  Here's the link to the original [data set](http://archive.ics.uci.edu/ml/datasets/Parkinson%27s+Disease+Classification), and corresponding [paper](https://www.sciencedirect.com/science/article/abs/pii/S1568494618305799?via%3Dihub). Note that the paper used the data set with a similar goal but with very different predictor variables than the ones we select here.\n",
    "\n",
    "### Question\n",
    "To what extent can we use elements of speech sounds to predict whether or not a patient has Parkinson’s disease?\n",
    "\n",
    "### Data set\n",
    "Our data set is from [UCI’s Machine Learning repository](http://archive.ics.uci.edu/ml/datasets/Parkinson%27s+Disease+Classification). This data set contains numerous variables derived from speech sounds gathered by Sakar using the [Praat](http://www.fon.hum.uva.nl/praat/) acoustic analysis software. Each participant in the study was asked to repeat their pronunciations of the /a/ phoneme three times; each entry is thus associated with an ID parameter ranging from 0 to 251.  We chose to focus on the following six predictor parameters:\n",
    "\n",
    "\n",
    "| Speech Sound Component               | Variable Name in Data Set | Description                                                      |\n",
    "|------------------------------------------|---------------------------|------------------------------------------------------------------|\n",
    "| Pitch Period Entropy (PPE)⁠               | PPE                       | measures the impaired control of someone’s pitch                 |\n",
    "| Detrended Fluctuation Analysis (DFA)⁠     | DFA                       | a measure of the ‘noisiness’ of speech waves                     |\n",
    "| Recurrence Period Density Entropy (RPDE)⁠ | RPDE                       | repetitiveness of speech waves                                   |\n",
    "| Jitter                                   | locPctJitter                       | a measure of frequency instability                               |\n",
    "| Shimmer                                  | locShimmer                       | a measure of amplitude instability                               |\n",
    "| Fundamental Frequency                    | meanPeriodPulses                       | someone’s pitch (calculated from the inverse of the mean period)⁠ |\n",
    "\n",
    "<center><b>Figure 2</b> Table describing each of the predictor's used in the original analysis</center>\n",
    "\n",
    "There’s a lot of complicated mathematics associated with each of these parameters (including Fourier transforms, dense equations, etc.) so the interested reader is encouraged to reference Sakar directly."
   ]
  },
  {
   "cell_type": "markdown",
   "metadata": {},
   "source": [
    "## 2 Methods\n",
    "### Predictors\n",
    "Many researchers have attempted to use speech signal processing for Parkinson’s disease classification. Based on Sakar and other widely supported literature, the predictors identified above are the most popular speech features used in PD studies and should prove effective. They are also all related to motor control, which is what the early stages of Parkinson’s directly impacts.\n",
    "\n",
    "### Data wrangling and pre-processing\n",
    "Each participant’s data (i.e., their pronunciation of /a/) was collected three times; to analyze this data set, each of these three observations was merged by taking the mean of each of our predictor variables in question.\n",
    "\n",
    "The data was not completely tidy, but the columns that we used were, so the untidy columns were neglected. Next, to be able to conduct classification, our predictor variables were standardized and centered. Each of our variables had a unique distribution; PPE, DFA, and RPDE were on a scale of 0 to 1 and the pitch variable was on an order of magnitude to 10<sup>-3</sup>, for example, so the entire data set was scaled so that we did not have to worry about each variable’s individual distribution.\n",
    "\n",
    "### Conducting the Classification Analysis\n",
    "Since our question is a binary classification problem, we used the K-nearest neighbours classification algorithm (KNN). We optimized our choice of k using cross-validation on our training set, and then used the optimal choice of k to create our final model. We then determined its accuracy using the test set.\n",
    "\n",
    "### Visualizing the Results\n",
    "To visualize the effectiveness of our KNN model, we were not able to draw a scatter plot directly, as we worked with more than 2-dimensions. We had a line plot showing the trend of increasing values of k on the accuracy of our model for many folds to assist in determining which k we should use for our final model. Then, we created a bar plot to show the number of correct predictions, false positives, and false negatives."
   ]
  },
  {
   "cell_type": "markdown",
   "metadata": {},
   "source": [
    "<img src=\"example-knn.png\" alt=\"Example KNN plot\" width=\"400\"/>\n",
    "\n",
    "<center><b>Figure 3</b> An example knn visualization with only two predictors. </center>"
   ]
  },
  {
   "cell_type": "markdown",
   "metadata": {},
   "source": [
    "## 3 Exploration\n",
    "### Exploratory data analysis\n",
    "\n",
    "We conducted a preliminary exploration of the data, to getter a better sense of what we were working with."
   ]
  },
  {
   "cell_type": "code",
   "execution_count": 1,
   "metadata": {},
   "outputs": [],
   "source": [
    "# Reinstall packages (if needed)\n",
    "# install.packages(\"tidyverse\")\n",
    "# install.packages(\"caret\")\n",
    "# install.packages(\"repr\")\n",
    "# install.packages(\"GGally\")\n",
    "# install.packages(\"formula.tools\")\n",
    "\n",
    "# Fix for strange error message\n",
    "# install.packages(\"e1071\")"
   ]
  },
  {
   "cell_type": "code",
   "execution_count": 2,
   "metadata": {},
   "outputs": [
    {
     "name": "stderr",
     "output_type": "stream",
     "text": [
      "Loading required package: lattice\n",
      "\n",
      "Loading required package: ggplot2\n",
      "\n",
      "Registered S3 method overwritten by 'GGally':\n",
      "  method from   \n",
      "  +.gg   ggplot2\n",
      "\n",
      "-- \u001b[1mAttaching packages\u001b[22m --------------------------------------- tidyverse 1.3.0 --\n",
      "\n",
      "\u001b[32mv\u001b[39m \u001b[34mtibble \u001b[39m 3.0.0     \u001b[32mv\u001b[39m \u001b[34mdplyr  \u001b[39m 0.8.5\n",
      "\u001b[32mv\u001b[39m \u001b[34mtidyr  \u001b[39m 1.0.2     \u001b[32mv\u001b[39m \u001b[34mstringr\u001b[39m 1.4.0\n",
      "\u001b[32mv\u001b[39m \u001b[34mreadr  \u001b[39m 1.3.1     \u001b[32mv\u001b[39m \u001b[34mforcats\u001b[39m 0.5.0\n",
      "\u001b[32mv\u001b[39m \u001b[34mpurrr  \u001b[39m 0.3.4     \n",
      "\n",
      "-- \u001b[1mConflicts\u001b[22m ------------------------------------------ tidyverse_conflicts() --\n",
      "\u001b[31mx\u001b[39m \u001b[34mdplyr\u001b[39m::\u001b[32mfilter()\u001b[39m masks \u001b[34mstats\u001b[39m::filter()\n",
      "\u001b[31mx\u001b[39m \u001b[34mdplyr\u001b[39m::\u001b[32mlag()\u001b[39m    masks \u001b[34mstats\u001b[39m::lag()\n",
      "\u001b[31mx\u001b[39m \u001b[34mpurrr\u001b[39m::\u001b[32mlift()\u001b[39m   masks \u001b[34mcaret\u001b[39m::lift()\n",
      "\n"
     ]
    }
   ],
   "source": [
    "# Load in the necessary libraries\n",
    "library(caret)\n",
    "library(repr)\n",
    "library(GGally)\n",
    "library(tidyverse)\n",
    "library(formula.tools)"
   ]
  },
  {
   "cell_type": "code",
   "execution_count": 3,
   "metadata": {},
   "outputs": [],
   "source": [
    "# Make all of the following results reproducible, use this value across the analysis\n",
    "set.seed(28)"
   ]
  },
  {
   "cell_type": "markdown",
   "metadata": {},
   "source": [
    "### Reading in the data\n",
    "To begin, we read in the data from the UCI repository. We did not read it directly from UCI's URL, as it contained a zip, and trying to deal with that in R is tedious. Rather, we uploaded the file to Google Drive and we accessed it from there."
   ]
  },
  {
   "cell_type": "code",
   "execution_count": 4,
   "metadata": {},
   "outputs": [
    {
     "name": "stderr",
     "output_type": "stream",
     "text": [
      "Parsed with column specification:\n",
      "cols(\n",
      "  .default = col_double()\n",
      ")\n",
      "\n",
      "See spec(...) for full column specifications.\n",
      "\n"
     ]
    }
   ],
   "source": [
    "# Reads the dataset from the web into R; the Drive URL is self-made\n",
    "pd_data <- read_csv(\"https://drive.google.com/uc?export=download&id=1p9JuoTRM_-t56x7gptZU2TRNue8IHFHc\", skip = 1)\n",
    "\n",
    "#narrows down the dataset to the variables that we will use\n",
    "baseline_data <- pd_data %>%\n",
    "                select(id:meanHarmToNoiseHarmonicity, class)"
   ]
  },
  {
   "cell_type": "code",
   "execution_count": 5,
   "metadata": {},
   "outputs": [
    {
     "data": {
      "text/html": [
       "<table>\n",
       "<caption>A tibble: 6 × 24</caption>\n",
       "<thead>\n",
       "\t<tr><th scope=col>id</th><th scope=col>gender</th><th scope=col>PPE</th><th scope=col>DFA</th><th scope=col>RPDE</th><th scope=col>numPulses</th><th scope=col>numPeriodsPulses</th><th scope=col>meanPeriodPulses</th><th scope=col>stdDevPeriodPulses</th><th scope=col>locPctJitter</th><th scope=col>...</th><th scope=col>locShimmer</th><th scope=col>locDbShimmer</th><th scope=col>apq3Shimmer</th><th scope=col>apq5Shimmer</th><th scope=col>apq11Shimmer</th><th scope=col>ddaShimmer</th><th scope=col>meanAutoCorrHarmonicity</th><th scope=col>meanNoiseToHarmHarmonicity</th><th scope=col>meanHarmToNoiseHarmonicity</th><th scope=col>class</th></tr>\n",
       "\t<tr><th scope=col>&lt;dbl&gt;</th><th scope=col>&lt;dbl&gt;</th><th scope=col>&lt;dbl&gt;</th><th scope=col>&lt;dbl&gt;</th><th scope=col>&lt;dbl&gt;</th><th scope=col>&lt;dbl&gt;</th><th scope=col>&lt;dbl&gt;</th><th scope=col>&lt;dbl&gt;</th><th scope=col>&lt;dbl&gt;</th><th scope=col>&lt;dbl&gt;</th><th scope=col>...</th><th scope=col>&lt;dbl&gt;</th><th scope=col>&lt;dbl&gt;</th><th scope=col>&lt;dbl&gt;</th><th scope=col>&lt;dbl&gt;</th><th scope=col>&lt;dbl&gt;</th><th scope=col>&lt;dbl&gt;</th><th scope=col>&lt;dbl&gt;</th><th scope=col>&lt;dbl&gt;</th><th scope=col>&lt;dbl&gt;</th><th scope=col>&lt;dbl&gt;</th></tr>\n",
       "</thead>\n",
       "<tbody>\n",
       "\t<tr><td>0</td><td>1</td><td>0.85247</td><td>0.71826</td><td>0.57227</td><td>240</td><td>239</td><td>0.008063530</td><td>0.000086800</td><td>0.00218</td><td>...</td><td>0.05883</td><td>0.517</td><td>0.03011</td><td>0.03496</td><td>0.04828</td><td>0.09034</td><td>0.970805</td><td>0.036223</td><td>18.995</td><td>1</td></tr>\n",
       "\t<tr><td>0</td><td>1</td><td>0.76686</td><td>0.69481</td><td>0.53966</td><td>234</td><td>233</td><td>0.008258256</td><td>0.000073100</td><td>0.00195</td><td>...</td><td>0.05516</td><td>0.502</td><td>0.02320</td><td>0.03675</td><td>0.06195</td><td>0.06961</td><td>0.984322</td><td>0.017974</td><td>21.497</td><td>1</td></tr>\n",
       "\t<tr><td>0</td><td>1</td><td>0.85083</td><td>0.67604</td><td>0.58982</td><td>232</td><td>231</td><td>0.008339590</td><td>0.000060400</td><td>0.00176</td><td>...</td><td>0.09902</td><td>0.897</td><td>0.05094</td><td>0.06497</td><td>0.07772</td><td>0.15282</td><td>0.974846</td><td>0.026313</td><td>17.651</td><td>1</td></tr>\n",
       "\t<tr><td>1</td><td>0</td><td>0.41121</td><td>0.79672</td><td>0.59257</td><td>178</td><td>177</td><td>0.010857733</td><td>0.000182739</td><td>0.00419</td><td>...</td><td>0.05451</td><td>0.527</td><td>0.02395</td><td>0.02857</td><td>0.04462</td><td>0.07185</td><td>0.968343</td><td>0.042003</td><td>19.865</td><td>1</td></tr>\n",
       "\t<tr><td>1</td><td>0</td><td>0.32790</td><td>0.79782</td><td>0.53028</td><td>236</td><td>235</td><td>0.008161574</td><td>0.002668863</td><td>0.00535</td><td>...</td><td>0.05610</td><td>0.497</td><td>0.02909</td><td>0.03327</td><td>0.05278</td><td>0.08728</td><td>0.975754</td><td>0.027139</td><td>19.557</td><td>1</td></tr>\n",
       "\t<tr><td>1</td><td>0</td><td>0.50780</td><td>0.78744</td><td>0.65451</td><td>226</td><td>221</td><td>0.007631204</td><td>0.002696381</td><td>0.00783</td><td>...</td><td>0.07752</td><td>0.678</td><td>0.03805</td><td>0.04767</td><td>0.06451</td><td>0.11415</td><td>0.906720</td><td>0.137088</td><td>14.676</td><td>1</td></tr>\n",
       "</tbody>\n",
       "</table>\n"
      ],
      "text/latex": [
       "A tibble: 6 × 24\n",
       "\\begin{tabular}{lllllllllllllllllllll}\n",
       " id & gender & PPE & DFA & RPDE & numPulses & numPeriodsPulses & meanPeriodPulses & stdDevPeriodPulses & locPctJitter & ... & locShimmer & locDbShimmer & apq3Shimmer & apq5Shimmer & apq11Shimmer & ddaShimmer & meanAutoCorrHarmonicity & meanNoiseToHarmHarmonicity & meanHarmToNoiseHarmonicity & class\\\\\n",
       " <dbl> & <dbl> & <dbl> & <dbl> & <dbl> & <dbl> & <dbl> & <dbl> & <dbl> & <dbl> & ... & <dbl> & <dbl> & <dbl> & <dbl> & <dbl> & <dbl> & <dbl> & <dbl> & <dbl> & <dbl>\\\\\n",
       "\\hline\n",
       "\t 0 & 1 & 0.85247 & 0.71826 & 0.57227 & 240 & 239 & 0.008063530 & 0.000086800 & 0.00218 & ... & 0.05883 & 0.517 & 0.03011 & 0.03496 & 0.04828 & 0.09034 & 0.970805 & 0.036223 & 18.995 & 1\\\\\n",
       "\t 0 & 1 & 0.76686 & 0.69481 & 0.53966 & 234 & 233 & 0.008258256 & 0.000073100 & 0.00195 & ... & 0.05516 & 0.502 & 0.02320 & 0.03675 & 0.06195 & 0.06961 & 0.984322 & 0.017974 & 21.497 & 1\\\\\n",
       "\t 0 & 1 & 0.85083 & 0.67604 & 0.58982 & 232 & 231 & 0.008339590 & 0.000060400 & 0.00176 & ... & 0.09902 & 0.897 & 0.05094 & 0.06497 & 0.07772 & 0.15282 & 0.974846 & 0.026313 & 17.651 & 1\\\\\n",
       "\t 1 & 0 & 0.41121 & 0.79672 & 0.59257 & 178 & 177 & 0.010857733 & 0.000182739 & 0.00419 & ... & 0.05451 & 0.527 & 0.02395 & 0.02857 & 0.04462 & 0.07185 & 0.968343 & 0.042003 & 19.865 & 1\\\\\n",
       "\t 1 & 0 & 0.32790 & 0.79782 & 0.53028 & 236 & 235 & 0.008161574 & 0.002668863 & 0.00535 & ... & 0.05610 & 0.497 & 0.02909 & 0.03327 & 0.05278 & 0.08728 & 0.975754 & 0.027139 & 19.557 & 1\\\\\n",
       "\t 1 & 0 & 0.50780 & 0.78744 & 0.65451 & 226 & 221 & 0.007631204 & 0.002696381 & 0.00783 & ... & 0.07752 & 0.678 & 0.03805 & 0.04767 & 0.06451 & 0.11415 & 0.906720 & 0.137088 & 14.676 & 1\\\\\n",
       "\\end{tabular}\n"
      ],
      "text/markdown": [
       "\n",
       "A tibble: 6 × 24\n",
       "\n",
       "| id &lt;dbl&gt; | gender &lt;dbl&gt; | PPE &lt;dbl&gt; | DFA &lt;dbl&gt; | RPDE &lt;dbl&gt; | numPulses &lt;dbl&gt; | numPeriodsPulses &lt;dbl&gt; | meanPeriodPulses &lt;dbl&gt; | stdDevPeriodPulses &lt;dbl&gt; | locPctJitter &lt;dbl&gt; | ... ... | locShimmer &lt;dbl&gt; | locDbShimmer &lt;dbl&gt; | apq3Shimmer &lt;dbl&gt; | apq5Shimmer &lt;dbl&gt; | apq11Shimmer &lt;dbl&gt; | ddaShimmer &lt;dbl&gt; | meanAutoCorrHarmonicity &lt;dbl&gt; | meanNoiseToHarmHarmonicity &lt;dbl&gt; | meanHarmToNoiseHarmonicity &lt;dbl&gt; | class &lt;dbl&gt; |\n",
       "|---|---|---|---|---|---|---|---|---|---|---|---|---|---|---|---|---|---|---|---|---|\n",
       "| 0 | 1 | 0.85247 | 0.71826 | 0.57227 | 240 | 239 | 0.008063530 | 0.000086800 | 0.00218 | ... | 0.05883 | 0.517 | 0.03011 | 0.03496 | 0.04828 | 0.09034 | 0.970805 | 0.036223 | 18.995 | 1 |\n",
       "| 0 | 1 | 0.76686 | 0.69481 | 0.53966 | 234 | 233 | 0.008258256 | 0.000073100 | 0.00195 | ... | 0.05516 | 0.502 | 0.02320 | 0.03675 | 0.06195 | 0.06961 | 0.984322 | 0.017974 | 21.497 | 1 |\n",
       "| 0 | 1 | 0.85083 | 0.67604 | 0.58982 | 232 | 231 | 0.008339590 | 0.000060400 | 0.00176 | ... | 0.09902 | 0.897 | 0.05094 | 0.06497 | 0.07772 | 0.15282 | 0.974846 | 0.026313 | 17.651 | 1 |\n",
       "| 1 | 0 | 0.41121 | 0.79672 | 0.59257 | 178 | 177 | 0.010857733 | 0.000182739 | 0.00419 | ... | 0.05451 | 0.527 | 0.02395 | 0.02857 | 0.04462 | 0.07185 | 0.968343 | 0.042003 | 19.865 | 1 |\n",
       "| 1 | 0 | 0.32790 | 0.79782 | 0.53028 | 236 | 235 | 0.008161574 | 0.002668863 | 0.00535 | ... | 0.05610 | 0.497 | 0.02909 | 0.03327 | 0.05278 | 0.08728 | 0.975754 | 0.027139 | 19.557 | 1 |\n",
       "| 1 | 0 | 0.50780 | 0.78744 | 0.65451 | 226 | 221 | 0.007631204 | 0.002696381 | 0.00783 | ... | 0.07752 | 0.678 | 0.03805 | 0.04767 | 0.06451 | 0.11415 | 0.906720 | 0.137088 | 14.676 | 1 |\n",
       "\n"
      ],
      "text/plain": [
       "  id gender PPE     DFA     RPDE    numPulses numPeriodsPulses meanPeriodPulses\n",
       "1 0  1      0.85247 0.71826 0.57227 240       239              0.008063530     \n",
       "2 0  1      0.76686 0.69481 0.53966 234       233              0.008258256     \n",
       "3 0  1      0.85083 0.67604 0.58982 232       231              0.008339590     \n",
       "4 1  0      0.41121 0.79672 0.59257 178       177              0.010857733     \n",
       "5 1  0      0.32790 0.79782 0.53028 236       235              0.008161574     \n",
       "6 1  0      0.50780 0.78744 0.65451 226       221              0.007631204     \n",
       "  stdDevPeriodPulses locPctJitter ... locShimmer locDbShimmer apq3Shimmer\n",
       "1 0.000086800        0.00218      ... 0.05883    0.517        0.03011    \n",
       "2 0.000073100        0.00195      ... 0.05516    0.502        0.02320    \n",
       "3 0.000060400        0.00176      ... 0.09902    0.897        0.05094    \n",
       "4 0.000182739        0.00419      ... 0.05451    0.527        0.02395    \n",
       "5 0.002668863        0.00535      ... 0.05610    0.497        0.02909    \n",
       "6 0.002696381        0.00783      ... 0.07752    0.678        0.03805    \n",
       "  apq5Shimmer apq11Shimmer ddaShimmer meanAutoCorrHarmonicity\n",
       "1 0.03496     0.04828      0.09034    0.970805               \n",
       "2 0.03675     0.06195      0.06961    0.984322               \n",
       "3 0.06497     0.07772      0.15282    0.974846               \n",
       "4 0.02857     0.04462      0.07185    0.968343               \n",
       "5 0.03327     0.05278      0.08728    0.975754               \n",
       "6 0.04767     0.06451      0.11415    0.906720               \n",
       "  meanNoiseToHarmHarmonicity meanHarmToNoiseHarmonicity class\n",
       "1 0.036223                   18.995                     1    \n",
       "2 0.017974                   21.497                     1    \n",
       "3 0.026313                   17.651                     1    \n",
       "4 0.042003                   19.865                     1    \n",
       "5 0.027139                   19.557                     1    \n",
       "6 0.137088                   14.676                     1    "
      ]
     },
     "metadata": {},
     "output_type": "display_data"
    }
   ],
   "source": [
    "head(baseline_data)"
   ]
  },
  {
   "cell_type": "markdown",
   "metadata": {},
   "source": [
    "<center><b>Figure 4</b> A slice of the basline data loaded from the UCI repository</center>"
   ]
  },
  {
   "cell_type": "markdown",
   "metadata": {},
   "source": [
    "### Wrangling\n",
    "\n",
    "As was mentioned in the methods section, each participant was represented three times (e.g., see three rows with `id == 0` above). We merged these by taking the mean of each of the predictor columns, after grouping by `id`."
   ]
  },
  {
   "cell_type": "code",
   "execution_count": 6,
   "metadata": {},
   "outputs": [
    {
     "data": {
      "text/html": [
       "<table>\n",
       "<caption>A tibble: 6 × 9</caption>\n",
       "<thead>\n",
       "\t<tr><th scope=col>id</th><th scope=col>PPE</th><th scope=col>DFA</th><th scope=col>RPDE</th><th scope=col>meanPeriodPulses</th><th scope=col>locPctJitter</th><th scope=col>locShimmer</th><th scope=col>class</th><th scope=col>has_pd</th></tr>\n",
       "\t<tr><th scope=col>&lt;dbl&gt;</th><th scope=col>&lt;dbl&gt;</th><th scope=col>&lt;dbl&gt;</th><th scope=col>&lt;dbl&gt;</th><th scope=col>&lt;dbl&gt;</th><th scope=col>&lt;dbl&gt;</th><th scope=col>&lt;dbl&gt;</th><th scope=col>&lt;fct&gt;</th><th scope=col>&lt;lgl&gt;</th></tr>\n",
       "</thead>\n",
       "<tbody>\n",
       "\t<tr><td>0</td><td>0.8233867</td><td>0.6963700</td><td>0.5672500</td><td>0.008220459</td><td>0.0019633333</td><td>0.07100333</td><td>1</td><td>TRUE</td></tr>\n",
       "\t<tr><td>1</td><td>0.4156367</td><td>0.7939933</td><td>0.5924533</td><td>0.008883504</td><td>0.0057900000</td><td>0.06271000</td><td>1</td><td>TRUE</td></tr>\n",
       "\t<tr><td>2</td><td>0.8019733</td><td>0.6199667</td><td>0.5205633</td><td>0.006040677</td><td>0.0022166667</td><td>0.04095333</td><td>1</td><td>TRUE</td></tr>\n",
       "\t<tr><td>3</td><td>0.8287067</td><td>0.6260967</td><td>0.5371833</td><td>0.003913008</td><td>0.0007566667</td><td>0.04946667</td><td>1</td><td>TRUE</td></tr>\n",
       "\t<tr><td>4</td><td>0.8312867</td><td>0.7793967</td><td>0.7267167</td><td>0.005621587</td><td>0.0035933333</td><td>0.15919333</td><td>1</td><td>TRUE</td></tr>\n",
       "\t<tr><td>5</td><td>0.8225200</td><td>0.6220833</td><td>0.3576600</td><td>0.006814760</td><td>0.0009400000</td><td>0.03258333</td><td>1</td><td>TRUE</td></tr>\n",
       "</tbody>\n",
       "</table>\n"
      ],
      "text/latex": [
       "A tibble: 6 × 9\n",
       "\\begin{tabular}{lllllllll}\n",
       " id & PPE & DFA & RPDE & meanPeriodPulses & locPctJitter & locShimmer & class & has\\_pd\\\\\n",
       " <dbl> & <dbl> & <dbl> & <dbl> & <dbl> & <dbl> & <dbl> & <fct> & <lgl>\\\\\n",
       "\\hline\n",
       "\t 0 & 0.8233867 & 0.6963700 & 0.5672500 & 0.008220459 & 0.0019633333 & 0.07100333 & 1 & TRUE\\\\\n",
       "\t 1 & 0.4156367 & 0.7939933 & 0.5924533 & 0.008883504 & 0.0057900000 & 0.06271000 & 1 & TRUE\\\\\n",
       "\t 2 & 0.8019733 & 0.6199667 & 0.5205633 & 0.006040677 & 0.0022166667 & 0.04095333 & 1 & TRUE\\\\\n",
       "\t 3 & 0.8287067 & 0.6260967 & 0.5371833 & 0.003913008 & 0.0007566667 & 0.04946667 & 1 & TRUE\\\\\n",
       "\t 4 & 0.8312867 & 0.7793967 & 0.7267167 & 0.005621587 & 0.0035933333 & 0.15919333 & 1 & TRUE\\\\\n",
       "\t 5 & 0.8225200 & 0.6220833 & 0.3576600 & 0.006814760 & 0.0009400000 & 0.03258333 & 1 & TRUE\\\\\n",
       "\\end{tabular}\n"
      ],
      "text/markdown": [
       "\n",
       "A tibble: 6 × 9\n",
       "\n",
       "| id &lt;dbl&gt; | PPE &lt;dbl&gt; | DFA &lt;dbl&gt; | RPDE &lt;dbl&gt; | meanPeriodPulses &lt;dbl&gt; | locPctJitter &lt;dbl&gt; | locShimmer &lt;dbl&gt; | class &lt;fct&gt; | has_pd &lt;lgl&gt; |\n",
       "|---|---|---|---|---|---|---|---|---|\n",
       "| 0 | 0.8233867 | 0.6963700 | 0.5672500 | 0.008220459 | 0.0019633333 | 0.07100333 | 1 | TRUE |\n",
       "| 1 | 0.4156367 | 0.7939933 | 0.5924533 | 0.008883504 | 0.0057900000 | 0.06271000 | 1 | TRUE |\n",
       "| 2 | 0.8019733 | 0.6199667 | 0.5205633 | 0.006040677 | 0.0022166667 | 0.04095333 | 1 | TRUE |\n",
       "| 3 | 0.8287067 | 0.6260967 | 0.5371833 | 0.003913008 | 0.0007566667 | 0.04946667 | 1 | TRUE |\n",
       "| 4 | 0.8312867 | 0.7793967 | 0.7267167 | 0.005621587 | 0.0035933333 | 0.15919333 | 1 | TRUE |\n",
       "| 5 | 0.8225200 | 0.6220833 | 0.3576600 | 0.006814760 | 0.0009400000 | 0.03258333 | 1 | TRUE |\n",
       "\n"
      ],
      "text/plain": [
       "  id PPE       DFA       RPDE      meanPeriodPulses locPctJitter locShimmer\n",
       "1 0  0.8233867 0.6963700 0.5672500 0.008220459      0.0019633333 0.07100333\n",
       "2 1  0.4156367 0.7939933 0.5924533 0.008883504      0.0057900000 0.06271000\n",
       "3 2  0.8019733 0.6199667 0.5205633 0.006040677      0.0022166667 0.04095333\n",
       "4 3  0.8287067 0.6260967 0.5371833 0.003913008      0.0007566667 0.04946667\n",
       "5 4  0.8312867 0.7793967 0.7267167 0.005621587      0.0035933333 0.15919333\n",
       "6 5  0.8225200 0.6220833 0.3576600 0.006814760      0.0009400000 0.03258333\n",
       "  class has_pd\n",
       "1 1     TRUE  \n",
       "2 1     TRUE  \n",
       "3 1     TRUE  \n",
       "4 1     TRUE  \n",
       "5 1     TRUE  \n",
       "6 1     TRUE  "
      ]
     },
     "metadata": {},
     "output_type": "display_data"
    }
   ],
   "source": [
    "# Averages the values of each subject's three trials so that each subject is represented by one row\n",
    "\n",
    "project_data <- baseline_data %>%\n",
    "                group_by(id) %>%\n",
    "                summarize(PPE = mean(PPE),\n",
    "                     DFA = mean(DFA),\n",
    "                     RPDE = mean(RPDE),\n",
    "                     meanPeriodPulses = mean(meanPeriodPulses),\n",
    "                     locPctJitter = mean(locPctJitter),\n",
    "                     locShimmer = mean(locShimmer),\n",
    "                     # meanAutoCorrHarmonicity = mean(meanAutoCorrHarmonicity),--legacy from project proposal\n",
    "                     class = mean(class)) %>%\n",
    "                     mutate(class = as.factor(class)) %>%\n",
    "                     mutate(has_pd = (class == 1))\n",
    "head(project_data)"
   ]
  },
  {
   "cell_type": "markdown",
   "metadata": {},
   "source": [
    "<center><b>Figure 5</b> A table containing the tidied data and only relevant columns remaining</center>"
   ]
  },
  {
   "cell_type": "markdown",
   "metadata": {},
   "source": [
    "### Creating the training and testing sets\n",
    "Below we created the training and test sets using `createDataPartition()` from the `caret` package."
   ]
  },
  {
   "cell_type": "code",
   "execution_count": 7,
   "metadata": {},
   "outputs": [
    {
     "data": {
      "text/html": [
       "<table>\n",
       "<caption>A tibble: 6 × 9</caption>\n",
       "<thead>\n",
       "\t<tr><th scope=col>id</th><th scope=col>PPE</th><th scope=col>DFA</th><th scope=col>RPDE</th><th scope=col>meanPeriodPulses</th><th scope=col>locPctJitter</th><th scope=col>locShimmer</th><th scope=col>class</th><th scope=col>has_pd</th></tr>\n",
       "\t<tr><th scope=col>&lt;dbl&gt;</th><th scope=col>&lt;dbl&gt;</th><th scope=col>&lt;dbl&gt;</th><th scope=col>&lt;dbl&gt;</th><th scope=col>&lt;dbl&gt;</th><th scope=col>&lt;dbl&gt;</th><th scope=col>&lt;dbl&gt;</th><th scope=col>&lt;fct&gt;</th><th scope=col>&lt;lgl&gt;</th></tr>\n",
       "</thead>\n",
       "<tbody>\n",
       "\t<tr><td>1</td><td>0.4156367</td><td>0.7939933</td><td>0.5924533</td><td>0.008883504</td><td>0.005790000</td><td>0.06271000</td><td>1</td><td>TRUE</td></tr>\n",
       "\t<tr><td>2</td><td>0.8019733</td><td>0.6199667</td><td>0.5205633</td><td>0.006040677</td><td>0.002216667</td><td>0.04095333</td><td>1</td><td>TRUE</td></tr>\n",
       "\t<tr><td>4</td><td>0.8312867</td><td>0.7793967</td><td>0.7267167</td><td>0.005621587</td><td>0.003593333</td><td>0.15919333</td><td>1</td><td>TRUE</td></tr>\n",
       "\t<tr><td>5</td><td>0.8225200</td><td>0.6220833</td><td>0.3576600</td><td>0.006814760</td><td>0.000940000</td><td>0.03258333</td><td>1</td><td>TRUE</td></tr>\n",
       "\t<tr><td>6</td><td>0.8000333</td><td>0.6672833</td><td>0.3915767</td><td>0.006713578</td><td>0.001276667</td><td>0.05228667</td><td>1</td><td>TRUE</td></tr>\n",
       "\t<tr><td>7</td><td>0.5291933</td><td>0.7748567</td><td>0.7126800</td><td>0.008029424</td><td>0.007440000</td><td>0.13953250</td><td>1</td><td>TRUE</td></tr>\n",
       "</tbody>\n",
       "</table>\n"
      ],
      "text/latex": [
       "A tibble: 6 × 9\n",
       "\\begin{tabular}{lllllllll}\n",
       " id & PPE & DFA & RPDE & meanPeriodPulses & locPctJitter & locShimmer & class & has\\_pd\\\\\n",
       " <dbl> & <dbl> & <dbl> & <dbl> & <dbl> & <dbl> & <dbl> & <fct> & <lgl>\\\\\n",
       "\\hline\n",
       "\t 1 & 0.4156367 & 0.7939933 & 0.5924533 & 0.008883504 & 0.005790000 & 0.06271000 & 1 & TRUE\\\\\n",
       "\t 2 & 0.8019733 & 0.6199667 & 0.5205633 & 0.006040677 & 0.002216667 & 0.04095333 & 1 & TRUE\\\\\n",
       "\t 4 & 0.8312867 & 0.7793967 & 0.7267167 & 0.005621587 & 0.003593333 & 0.15919333 & 1 & TRUE\\\\\n",
       "\t 5 & 0.8225200 & 0.6220833 & 0.3576600 & 0.006814760 & 0.000940000 & 0.03258333 & 1 & TRUE\\\\\n",
       "\t 6 & 0.8000333 & 0.6672833 & 0.3915767 & 0.006713578 & 0.001276667 & 0.05228667 & 1 & TRUE\\\\\n",
       "\t 7 & 0.5291933 & 0.7748567 & 0.7126800 & 0.008029424 & 0.007440000 & 0.13953250 & 1 & TRUE\\\\\n",
       "\\end{tabular}\n"
      ],
      "text/markdown": [
       "\n",
       "A tibble: 6 × 9\n",
       "\n",
       "| id &lt;dbl&gt; | PPE &lt;dbl&gt; | DFA &lt;dbl&gt; | RPDE &lt;dbl&gt; | meanPeriodPulses &lt;dbl&gt; | locPctJitter &lt;dbl&gt; | locShimmer &lt;dbl&gt; | class &lt;fct&gt; | has_pd &lt;lgl&gt; |\n",
       "|---|---|---|---|---|---|---|---|---|\n",
       "| 1 | 0.4156367 | 0.7939933 | 0.5924533 | 0.008883504 | 0.005790000 | 0.06271000 | 1 | TRUE |\n",
       "| 2 | 0.8019733 | 0.6199667 | 0.5205633 | 0.006040677 | 0.002216667 | 0.04095333 | 1 | TRUE |\n",
       "| 4 | 0.8312867 | 0.7793967 | 0.7267167 | 0.005621587 | 0.003593333 | 0.15919333 | 1 | TRUE |\n",
       "| 5 | 0.8225200 | 0.6220833 | 0.3576600 | 0.006814760 | 0.000940000 | 0.03258333 | 1 | TRUE |\n",
       "| 6 | 0.8000333 | 0.6672833 | 0.3915767 | 0.006713578 | 0.001276667 | 0.05228667 | 1 | TRUE |\n",
       "| 7 | 0.5291933 | 0.7748567 | 0.7126800 | 0.008029424 | 0.007440000 | 0.13953250 | 1 | TRUE |\n",
       "\n"
      ],
      "text/plain": [
       "  id PPE       DFA       RPDE      meanPeriodPulses locPctJitter locShimmer\n",
       "1 1  0.4156367 0.7939933 0.5924533 0.008883504      0.005790000  0.06271000\n",
       "2 2  0.8019733 0.6199667 0.5205633 0.006040677      0.002216667  0.04095333\n",
       "3 4  0.8312867 0.7793967 0.7267167 0.005621587      0.003593333  0.15919333\n",
       "4 5  0.8225200 0.6220833 0.3576600 0.006814760      0.000940000  0.03258333\n",
       "5 6  0.8000333 0.6672833 0.3915767 0.006713578      0.001276667  0.05228667\n",
       "6 7  0.5291933 0.7748567 0.7126800 0.008029424      0.007440000  0.13953250\n",
       "  class has_pd\n",
       "1 1     TRUE  \n",
       "2 1     TRUE  \n",
       "3 1     TRUE  \n",
       "4 1     TRUE  \n",
       "5 1     TRUE  \n",
       "6 1     TRUE  "
      ]
     },
     "metadata": {},
     "output_type": "display_data"
    }
   ],
   "source": [
    "# Determines which percentage of rows will be used in the training set and testing set (75%/25% split)\n",
    "set.seed(28)\n",
    "\n",
    "training_rows <- project_data %>%\n",
    "                select(has_pd) %>%\n",
    "                unlist() %>%\n",
    "                createDataPartition(p = 0.75, list = FALSE)\n",
    "\n",
    "# Splits the dataset into a training set and testing set\n",
    "training_set <- project_data %>% slice(training_rows)\n",
    "testing_set <- project_data %>% slice(-training_rows)\n",
    "\n",
    "head(training_set)"
   ]
  },
  {
   "cell_type": "markdown",
   "metadata": {},
   "source": [
    "<center><b>Figure 6</b> A slice of our training set data, after splitting our data into two separate sets </center>"
   ]
  },
  {
   "cell_type": "markdown",
   "metadata": {},
   "source": [
    "As mentioned in the data wrangling section of \"Methods,\" we eventually scaled our data. Scaling and other pre-processing was done in the analysis section."
   ]
  },
  {
   "cell_type": "markdown",
   "metadata": {},
   "source": [
    "### Testing set in detail\n",
    "\n",
    "Here we looked at the testing set in more detail, exploring the balance and spread of our selected columns."
   ]
  },
  {
   "cell_type": "code",
   "execution_count": 8,
   "metadata": {},
   "outputs": [
    {
     "data": {
      "text/html": [
       "<table>\n",
       "<caption>A tibble: 2 × 2</caption>\n",
       "<thead>\n",
       "\t<tr><th scope=col>has_pd</th><th scope=col>n</th></tr>\n",
       "\t<tr><th scope=col>&lt;lgl&gt;</th><th scope=col>&lt;int&gt;</th></tr>\n",
       "</thead>\n",
       "<tbody>\n",
       "\t<tr><td>FALSE</td><td> 48</td></tr>\n",
       "\t<tr><td> TRUE</td><td>141</td></tr>\n",
       "</tbody>\n",
       "</table>\n"
      ],
      "text/latex": [
       "A tibble: 2 × 2\n",
       "\\begin{tabular}{ll}\n",
       " has\\_pd & n\\\\\n",
       " <lgl> & <int>\\\\\n",
       "\\hline\n",
       "\t FALSE &  48\\\\\n",
       "\t  TRUE & 141\\\\\n",
       "\\end{tabular}\n"
      ],
      "text/markdown": [
       "\n",
       "A tibble: 2 × 2\n",
       "\n",
       "| has_pd &lt;lgl&gt; | n &lt;int&gt; |\n",
       "|---|---|\n",
       "| FALSE |  48 |\n",
       "|  TRUE | 141 |\n",
       "\n"
      ],
      "text/plain": [
       "  has_pd n  \n",
       "1 FALSE   48\n",
       "2  TRUE  141"
      ]
     },
     "metadata": {},
     "output_type": "display_data"
    }
   ],
   "source": [
    "# Reports the number of counts per class\n",
    "class_counts <- training_set %>%\n",
    "                    group_by(has_pd) %>%\n",
    "                    summarize(n = n())\n",
    "class_counts"
   ]
  },
  {
   "cell_type": "markdown",
   "metadata": {},
   "source": [
    "<center><b>Figure 7</b> A table displaying the balance in our training set </center>"
   ]
  },
  {
   "cell_type": "code",
   "execution_count": 9,
   "metadata": {},
   "outputs": [
    {
     "data": {
      "image/png": "[encoded data removed]",
      "text/plain": [
       "plot without title"
      ]
     },
     "metadata": {
      "image/png": {
       "height": 240,
       "width": 240
      },
      "text/plain": {
       "height": 240,
       "width": 240
      }
     },
     "output_type": "display_data"
    }
   ],
   "source": [
    "options(repr.plot.width=4,repr.plot.height=4)\n",
    "\n",
    "class_counts_plot <- ggplot(class_counts, aes(x = has_pd, y = n, fill = has_pd)) + \n",
    "                   geom_bar(stat=\"identity\") +\n",
    "                   labs(x = 'Has PD?', y = 'Number', fill = \"Has PD\") +\n",
    "                   ggtitle(\"Balance in PD Data Set\") +\n",
    "                   theme(text = element_text(size = 18), legend.position = \"none\")\n",
    "class_counts_plot"
   ]
  },
  {
   "cell_type": "markdown",
   "metadata": {},
   "source": [
    "<center><b>Figure 8</b> Visualizing the balance in our training set using a bar chart </center>"
   ]
  },
  {
   "cell_type": "markdown",
   "metadata": {},
   "source": [
    "We had many more—almost three times as many—patients with PD than without in this data set. Therefore, we could conclude our training set was somewhat imbalanced (in fact, it was the same imbalance as the original data set thanks to `createDataPartition()` handling stratification for us); however, it was not severe enough to warrant use of `upScale()`. This limitation is further discussed at the end of our analysis."
   ]
  },
  {
   "cell_type": "code",
   "execution_count": 10,
   "metadata": {},
   "outputs": [
    {
     "data": {
      "text/html": [
       "<table>\n",
       "<caption>A data.frame: 18 × 3</caption>\n",
       "<thead>\n",
       "\t<tr><th scope=col>stat</th><th scope=col>variable</th><th scope=col>value</th></tr>\n",
       "\t<tr><th scope=col>&lt;chr&gt;</th><th scope=col>&lt;chr&gt;</th><th scope=col>&lt;dbl&gt;</th></tr>\n",
       "</thead>\n",
       "<tbody>\n",
       "\t<tr><td>max </td><td>PPE             </td><td>0.851843333</td></tr>\n",
       "\t<tr><td>mean</td><td>PPE             </td><td>0.328186667</td></tr>\n",
       "\t<tr><td>min </td><td>PPE             </td><td>0.741362857</td></tr>\n",
       "\t<tr><td>max </td><td>DFA             </td><td>0.851113333</td></tr>\n",
       "\t<tr><td>mean</td><td>DFA             </td><td>0.555966667</td></tr>\n",
       "\t<tr><td>min </td><td>DFA             </td><td>0.698315467</td></tr>\n",
       "\t<tr><td>max </td><td>RPDE            </td><td>0.826476667</td></tr>\n",
       "\t<tr><td>mean</td><td>RPDE            </td><td>0.200946667</td></tr>\n",
       "\t<tr><td>min </td><td>RPDE            </td><td>0.492768607</td></tr>\n",
       "\t<tr><td>max </td><td>meanPeriodPulses</td><td>0.010676097</td></tr>\n",
       "\t<tr><td>mean</td><td>meanPeriodPulses</td><td>0.003319840</td></tr>\n",
       "\t<tr><td>min </td><td>meanPeriodPulses</td><td>0.006393659</td></tr>\n",
       "\t<tr><td>max </td><td>locPctJitter    </td><td>0.015376667</td></tr>\n",
       "\t<tr><td>mean</td><td>locPctJitter    </td><td>0.000270000</td></tr>\n",
       "\t<tr><td>min </td><td>locPctJitter    </td><td>0.002353944</td></tr>\n",
       "\t<tr><td>max </td><td>locShimmer      </td><td>0.210770000</td></tr>\n",
       "\t<tr><td>mean</td><td>locShimmer      </td><td>0.018023333</td></tr>\n",
       "\t<tr><td>min </td><td>locShimmer      </td><td>0.068510132</td></tr>\n",
       "</tbody>\n",
       "</table>\n"
      ],
      "text/latex": [
       "A data.frame: 18 × 3\n",
       "\\begin{tabular}{lll}\n",
       " stat & variable & value\\\\\n",
       " <chr> & <chr> & <dbl>\\\\\n",
       "\\hline\n",
       "\t max  & PPE              & 0.851843333\\\\\n",
       "\t mean & PPE              & 0.328186667\\\\\n",
       "\t min  & PPE              & 0.741362857\\\\\n",
       "\t max  & DFA              & 0.851113333\\\\\n",
       "\t mean & DFA              & 0.555966667\\\\\n",
       "\t min  & DFA              & 0.698315467\\\\\n",
       "\t max  & RPDE             & 0.826476667\\\\\n",
       "\t mean & RPDE             & 0.200946667\\\\\n",
       "\t min  & RPDE             & 0.492768607\\\\\n",
       "\t max  & meanPeriodPulses & 0.010676097\\\\\n",
       "\t mean & meanPeriodPulses & 0.003319840\\\\\n",
       "\t min  & meanPeriodPulses & 0.006393659\\\\\n",
       "\t max  & locPctJitter     & 0.015376667\\\\\n",
       "\t mean & locPctJitter     & 0.000270000\\\\\n",
       "\t min  & locPctJitter     & 0.002353944\\\\\n",
       "\t max  & locShimmer       & 0.210770000\\\\\n",
       "\t mean & locShimmer       & 0.018023333\\\\\n",
       "\t min  & locShimmer       & 0.068510132\\\\\n",
       "\\end{tabular}\n"
      ],
      "text/markdown": [
       "\n",
       "A data.frame: 18 × 3\n",
       "\n",
       "| stat &lt;chr&gt; | variable &lt;chr&gt; | value &lt;dbl&gt; |\n",
       "|---|---|---|\n",
       "| max  | PPE              | 0.851843333 |\n",
       "| mean | PPE              | 0.328186667 |\n",
       "| min  | PPE              | 0.741362857 |\n",
       "| max  | DFA              | 0.851113333 |\n",
       "| mean | DFA              | 0.555966667 |\n",
       "| min  | DFA              | 0.698315467 |\n",
       "| max  | RPDE             | 0.826476667 |\n",
       "| mean | RPDE             | 0.200946667 |\n",
       "| min  | RPDE             | 0.492768607 |\n",
       "| max  | meanPeriodPulses | 0.010676097 |\n",
       "| mean | meanPeriodPulses | 0.003319840 |\n",
       "| min  | meanPeriodPulses | 0.006393659 |\n",
       "| max  | locPctJitter     | 0.015376667 |\n",
       "| mean | locPctJitter     | 0.000270000 |\n",
       "| min  | locPctJitter     | 0.002353944 |\n",
       "| max  | locShimmer       | 0.210770000 |\n",
       "| mean | locShimmer       | 0.018023333 |\n",
       "| min  | locShimmer       | 0.068510132 |\n",
       "\n"
      ],
      "text/plain": [
       "   stat variable         value      \n",
       "1  max  PPE              0.851843333\n",
       "2  mean PPE              0.328186667\n",
       "3  min  PPE              0.741362857\n",
       "4  max  DFA              0.851113333\n",
       "5  mean DFA              0.555966667\n",
       "6  min  DFA              0.698315467\n",
       "7  max  RPDE             0.826476667\n",
       "8  mean RPDE             0.200946667\n",
       "9  min  RPDE             0.492768607\n",
       "10 max  meanPeriodPulses 0.010676097\n",
       "11 mean meanPeriodPulses 0.003319840\n",
       "12 min  meanPeriodPulses 0.006393659\n",
       "13 max  locPctJitter     0.015376667\n",
       "14 mean locPctJitter     0.000270000\n",
       "15 min  locPctJitter     0.002353944\n",
       "16 max  locShimmer       0.210770000\n",
       "17 mean locShimmer       0.018023333\n",
       "18 min  locShimmer       0.068510132"
      ]
     },
     "metadata": {},
     "output_type": "display_data"
    }
   ],
   "source": [
    "# Reports the means, maxes, and mins of each predictor variable used\n",
    "predictor_max <- training_set %>%\n",
    "                        select(PPE:locShimmer) %>%\n",
    "                        map_df(~ max(., na.rm  = TRUE))\n",
    "predictor_min <- training_set %>%\n",
    "                        select(PPE:locShimmer) %>%\n",
    "                        map_df(~ min(., na.rm  = TRUE))\n",
    "predictor_mean <- training_set %>%\n",
    "                        select(PPE:locShimmer) %>%\n",
    "                        map_df(~ mean(., na.rm  = TRUE))\n",
    "\n",
    "stats_merged <- rbind(predictor_max, predictor_min, predictor_mean)\n",
    "\n",
    "stat <- c('max','mean','min')\n",
    "\n",
    "stats_w_names <- data.frame(stat, stats_merged)\n",
    "\n",
    "predictor_stats <- gather(stats_w_names,\n",
    "                              key = variable,\n",
    "                              value = value,\n",
    "                              PPE:locShimmer)\n",
    "predictor_stats"
   ]
  },
  {
   "cell_type": "markdown",
   "metadata": {},
   "source": [
    "<center><b>Figure 9</b> A table containing the mean, max, and min of each of our predictor variables </center>"
   ]
  },
  {
   "cell_type": "markdown",
   "metadata": {},
   "source": [
    "### Predictors in detail"
   ]
  },
  {
   "cell_type": "code",
   "execution_count": 11,
   "metadata": {},
   "outputs": [],
   "source": [
    "# Visualizes and compares the distributions of each of the predictor variables\n",
    "plot_pairs <- training_set %>% \n",
    "              select(PPE:locShimmer) %>% \n",
    "              ggpairs(title = \"PD speech predictor variable correlations\")\n",
    "# plot_pairs\n",
    "plot_pairs_by_class <- training_set %>%\n",
    "                       ggpairs(.,\n",
    "                               legend = 9,\n",
    "                               columns = 2:8, \n",
    "                               mapping = ggplot2::aes(colour=has_pd), \n",
    "                               lower = list(continuous = wrap(\"smooth\", alpha = 0.3, size=0.1)),\n",
    "                               title = \"PD speech predictor variable correlations by class\") +\n",
    "                       theme(legend.position = \"bottom\")\n",
    "# plot_pairs_by_class"
   ]
  },
  {
   "cell_type": "markdown",
   "metadata": {},
   "source": [
    "The following two plots were created using the `GGPairs` library. The first, without color, strictly provides detail about the distribution and correlation between each pair created from our six predictor variables. Three of our predictors, DFA, RPDE, and meanPeriodPulses take on a much wider range of values than PPE, jitter, and shimmer. Many of our variables exhibit somewhat positive correlations on the scatterplot, though some have an entirely fuzzy distribution. For example, compare the plots in the PPE column to those in the RPDE column. This likely comes as a result of the spread of the predictors."
   ]
  },
  {
   "cell_type": "code",
   "execution_count": 12,
   "metadata": {},
   "outputs": [
    {
     "data": {
      "image/png": "[encoded data removed]",
      "text/plain": [
       "plot without title"
      ]
     },
     "metadata": {
      "image/png": {
       "height": 600,
       "width": 600
      },
      "text/plain": {
       "height": 600,
       "width": 600
      }
     },
     "output_type": "display_data"
    }
   ],
   "source": [
    "options(repr.plot.width=10,repr.plot.height=10, repr.plot.pointsize=20)\n",
    "\n",
    "plot_pairs"
   ]
  },
  {
   "cell_type": "markdown",
   "metadata": {},
   "source": [
    "<center><b>Figure 10</b> A pairwise visualization exploring the relationships between our predictor variables </center>"
   ]
  },
  {
   "cell_type": "markdown",
   "metadata": {},
   "source": [
    "With this understanding, we used a second plot, grouped and colored by `has_pd`, to assist in anticipating what the impact of these predictors would be. We noted that for every individual distribution, there is a marked difference between the red and blue groupings, which boded well for our analysis. On average, the healthy patients (i.e., `has_pd == FALSE`) fell on the lower end of the spectrum for our predictors, apart from PPE, where healthy patients exhibited higher values on average. Though we weren’t able to visualize our final model directly (as it was in six dimensions), we predicted from these plots that the new patients which fell on the \"lower end\" for most of these variables would be healthy. This also made intuitive sense; Parkinson’s is a degenerative disease for the muscles, so unhealthy patients would likely experience more rapid change in various speech variables due to tremors."
   ]
  },
  {
   "cell_type": "code",
   "execution_count": 13,
   "metadata": {},
   "outputs": [
    {
     "name": "stderr",
     "output_type": "stream",
     "text": [
      "`stat_bin()` using `bins = 30`. Pick better value with `binwidth`.\n",
      "\n",
      "`stat_bin()` using `bins = 30`. Pick better value with `binwidth`.\n",
      "\n",
      "`stat_bin()` using `bins = 30`. Pick better value with `binwidth`.\n",
      "\n",
      "`stat_bin()` using `bins = 30`. Pick better value with `binwidth`.\n",
      "\n",
      "`stat_bin()` using `bins = 30`. Pick better value with `binwidth`.\n",
      "\n",
      "`stat_bin()` using `bins = 30`. Pick better value with `binwidth`.\n",
      "\n"
     ]
    },
    {
     "data": {
      "image/png": "[encoded data removed]",
      "text/plain": [
       "plot without title"
      ]
     },
     "metadata": {
      "image/png": {
       "height": 600,
       "width": 600
      },
      "text/plain": {
       "height": 600,
       "width": 600
      }
     },
     "output_type": "display_data"
    }
   ],
   "source": [
    "options(repr.plot.width=10,repr.plot.height=10, repr.plot.pointsize=20)\n",
    "\n",
    "plot_pairs_by_class"
   ]
  },
  {
   "cell_type": "markdown",
   "metadata": {},
   "source": [
    "<center><b>Figure 11</b> Another visualization of the relationship between our predictors, now with their class distributions considered </center>"
   ]
  },
  {
   "cell_type": "markdown",
   "metadata": {},
   "source": [
    "## 4 Hypothesis\n",
    "\n",
    "### Expected Outcomes\n",
    "From our analysis, we expected to find that the six variables of speech we identified could form an effective model for determining whether or not a patient has Parkinson’s. We anticipated our findings would allow us to make reasonable predictions of whether or not a new patient has PD given their speech data."
   ]
  },
  {
   "cell_type": "markdown",
   "metadata": {},
   "source": [
    "## 5 Analysis\n",
    "### Classification & Visualization\n",
    "\n",
    "#### Using all predictors from proposal\n",
    "Below is our first attempt at constructing a classification model using all predictors from the proposal."
   ]
  },
  {
   "cell_type": "code",
   "execution_count": 14,
   "metadata": {},
   "outputs": [],
   "source": [
    "# Scale the data set (pre-processing)\n",
    "scale_transformer <- preProcess(training_set, method = c(\"center\", \"scale\")) \n",
    "training_set <- predict(scale_transformer, training_set)\n",
    "testing_set <- predict(scale_transformer, testing_set)\n",
    "# head(training_set)\n",
    "# head(testing_set)"
   ]
  },
  {
   "cell_type": "code",
   "execution_count": 15,
   "metadata": {},
   "outputs": [],
   "source": [
    "X_train <- training_set %>% \n",
    "  select(-class, -has_pd) %>% \n",
    "  data.frame()\n",
    "X_test <- testing_set %>% \n",
    "  select(-class, -has_pd) %>% \n",
    "  data.frame()\n",
    "Y_train <- training_set %>% \n",
    "  select(class) %>% \n",
    "  unlist()\n",
    "Y_test <- testing_set %>% \n",
    "  select(class) %>% \n",
    "  unlist()\n",
    "# head(X_train)\n",
    "# head(Y_train)"
   ]
  },
  {
   "cell_type": "code",
   "execution_count": 16,
   "metadata": {},
   "outputs": [],
   "source": [
    "train_control <- trainControl(method=\"cv\", number = 10)\n",
    "k <- data.frame(k = seq(from = 1, to = 51, by = 2))\n",
    "knn_model_cv_10fold <- train(x = X_train, y = Y_train, method = \"knn\", tuneGrid = k, trControl = train_control)\n",
    "# knn_model_cv_10fold"
   ]
  },
  {
   "cell_type": "code",
   "execution_count": 17,
   "metadata": {},
   "outputs": [
    {
     "data": {
      "text/html": [
       "<table>\n",
       "<caption>A data.frame: 6 × 5</caption>\n",
       "<thead>\n",
       "\t<tr><th></th><th scope=col>k</th><th scope=col>Accuracy</th><th scope=col>Kappa</th><th scope=col>AccuracySD</th><th scope=col>KappaSD</th></tr>\n",
       "\t<tr><th></th><th scope=col>&lt;dbl&gt;</th><th scope=col>&lt;dbl&gt;</th><th scope=col>&lt;dbl&gt;</th><th scope=col>&lt;dbl&gt;</th><th scope=col>&lt;dbl&gt;</th></tr>\n",
       "</thead>\n",
       "<tbody>\n",
       "\t<tr><th scope=row>1</th><td> 1</td><td>0.7463450</td><td>0.2688708</td><td>0.08445645</td><td>0.2466141</td></tr>\n",
       "\t<tr><th scope=row>2</th><td> 3</td><td>0.7293860</td><td>0.1696650</td><td>0.05158538</td><td>0.1909104</td></tr>\n",
       "\t<tr><th scope=row>3</th><td> 5</td><td>0.7568713</td><td>0.2318115</td><td>0.05562412</td><td>0.2155612</td></tr>\n",
       "\t<tr><th scope=row>4</th><td> 7</td><td>0.7513158</td><td>0.1898169</td><td>0.07440820</td><td>0.2437319</td></tr>\n",
       "\t<tr><th scope=row>5</th><td> 9</td><td>0.7621345</td><td>0.1817654</td><td>0.06555641</td><td>0.2504581</td></tr>\n",
       "\t<tr><th scope=row>6</th><td>11</td><td>0.7404971</td><td>0.1091229</td><td>0.04697234</td><td>0.2144579</td></tr>\n",
       "</tbody>\n",
       "</table>\n"
      ],
      "text/latex": [
       "A data.frame: 6 × 5\n",
       "\\begin{tabular}{r|lllll}\n",
       "  & k & Accuracy & Kappa & AccuracySD & KappaSD\\\\\n",
       "  & <dbl> & <dbl> & <dbl> & <dbl> & <dbl>\\\\\n",
       "\\hline\n",
       "\t1 &  1 & 0.7463450 & 0.2688708 & 0.08445645 & 0.2466141\\\\\n",
       "\t2 &  3 & 0.7293860 & 0.1696650 & 0.05158538 & 0.1909104\\\\\n",
       "\t3 &  5 & 0.7568713 & 0.2318115 & 0.05562412 & 0.2155612\\\\\n",
       "\t4 &  7 & 0.7513158 & 0.1898169 & 0.07440820 & 0.2437319\\\\\n",
       "\t5 &  9 & 0.7621345 & 0.1817654 & 0.06555641 & 0.2504581\\\\\n",
       "\t6 & 11 & 0.7404971 & 0.1091229 & 0.04697234 & 0.2144579\\\\\n",
       "\\end{tabular}\n"
      ],
      "text/markdown": [
       "\n",
       "A data.frame: 6 × 5\n",
       "\n",
       "| <!--/--> | k &lt;dbl&gt; | Accuracy &lt;dbl&gt; | Kappa &lt;dbl&gt; | AccuracySD &lt;dbl&gt; | KappaSD &lt;dbl&gt; |\n",
       "|---|---|---|---|---|---|\n",
       "| 1 |  1 | 0.7463450 | 0.2688708 | 0.08445645 | 0.2466141 |\n",
       "| 2 |  3 | 0.7293860 | 0.1696650 | 0.05158538 | 0.1909104 |\n",
       "| 3 |  5 | 0.7568713 | 0.2318115 | 0.05562412 | 0.2155612 |\n",
       "| 4 |  7 | 0.7513158 | 0.1898169 | 0.07440820 | 0.2437319 |\n",
       "| 5 |  9 | 0.7621345 | 0.1817654 | 0.06555641 | 0.2504581 |\n",
       "| 6 | 11 | 0.7404971 | 0.1091229 | 0.04697234 | 0.2144579 |\n",
       "\n"
      ],
      "text/plain": [
       "  k  Accuracy  Kappa     AccuracySD KappaSD  \n",
       "1  1 0.7463450 0.2688708 0.08445645 0.2466141\n",
       "2  3 0.7293860 0.1696650 0.05158538 0.1909104\n",
       "3  5 0.7568713 0.2318115 0.05562412 0.2155612\n",
       "4  7 0.7513158 0.1898169 0.07440820 0.2437319\n",
       "5  9 0.7621345 0.1817654 0.06555641 0.2504581\n",
       "6 11 0.7404971 0.1091229 0.04697234 0.2144579"
      ]
     },
     "metadata": {},
     "output_type": "display_data"
    }
   ],
   "source": [
    "accuracies <- knn_model_cv_10fold$results\n",
    "head(accuracies)"
   ]
  },
  {
   "cell_type": "markdown",
   "metadata": {},
   "source": [
    "<center><b>Figure 12 </b> A table containing the accuracy values for our first few values of k </center>"
   ]
  },
  {
   "cell_type": "code",
   "execution_count": 18,
   "metadata": {},
   "outputs": [
    {
     "data": {
      "image/png": "[encoded data removed]",
      "text/plain": [
       "plot without title"
      ]
     },
     "metadata": {
      "image/png": {
       "height": 300,
       "width": 300
      },
      "text/plain": {
       "height": 300,
       "width": 300
      }
     },
     "output_type": "display_data"
    }
   ],
   "source": [
    "options(repr.plot.height = 5, repr.plot.width = 5)\n",
    "\n",
    "accuracy_vs_k <- ggplot(accuracies, aes(x = k, y = Accuracy)) +\n",
    "  geom_point() +\n",
    "  geom_line() + \n",
    "  ggtitle(\"Graphing Accuracy Against K\") +\n",
    "  labs(subtitle = \"Initial attempt—all predictors used\")\n",
    "accuracy_vs_k"
   ]
  },
  {
   "cell_type": "markdown",
   "metadata": {},
   "source": [
    "<center><b>Figure 13 </b> A plot of accuracies of various k-values for a 10-fold cross-validation </center>"
   ]
  },
  {
   "cell_type": "code",
   "execution_count": 19,
   "metadata": {},
   "outputs": [
    {
     "data": {
      "text/html": [
       "<table>\n",
       "<caption>A data.frame: 1 × 1</caption>\n",
       "<thead>\n",
       "\t<tr><th></th><th scope=col>k</th></tr>\n",
       "\t<tr><th></th><th scope=col>&lt;dbl&gt;</th></tr>\n",
       "</thead>\n",
       "<tbody>\n",
       "\t<tr><th scope=row>1</th><td>9</td></tr>\n",
       "</tbody>\n",
       "</table>\n"
      ],
      "text/latex": [
       "A data.frame: 1 × 1\n",
       "\\begin{tabular}{r|l}\n",
       "  & k\\\\\n",
       "  & <dbl>\\\\\n",
       "\\hline\n",
       "\t1 & 9\\\\\n",
       "\\end{tabular}\n"
      ],
      "text/markdown": [
       "\n",
       "A data.frame: 1 × 1\n",
       "\n",
       "| <!--/--> | k &lt;dbl&gt; |\n",
       "|---|---|\n",
       "| 1 | 9 |\n",
       "\n"
      ],
      "text/plain": [
       "  k\n",
       "1 9"
      ]
     },
     "metadata": {},
     "output_type": "display_data"
    }
   ],
   "source": [
    "k <- accuracies %>%\n",
    "    arrange(desc(Accuracy)) %>%\n",
    "    head(n = 1) %>%\n",
    "    select(k)\n",
    "k"
   ]
  },
  {
   "cell_type": "markdown",
   "metadata": {},
   "source": [
    "<center><b>Figure 14 </b> A table containing the optimal choice of k </center>"
   ]
  },
  {
   "cell_type": "markdown",
   "metadata": {},
   "source": [
    "It looks like a choice of 5 here yields the high accuracy value. After approximately a k value of 40, our accuracy plateaus at just above 0.75. We will now retrain our model using this choice of k."
   ]
  },
  {
   "cell_type": "code",
   "execution_count": 20,
   "metadata": {},
   "outputs": [],
   "source": [
    "k = data.frame(k = 5)\n",
    "model_knn <- train(x = X_train, y = Y_train, method = \"knn\", tuneGrid = k)\n",
    "# model_knn"
   ]
  },
  {
   "cell_type": "code",
   "execution_count": 21,
   "metadata": {},
   "outputs": [],
   "source": [
    "Y_test_predicted <- predict(object = model_knn, X_test)\n",
    "# head(Y_test_predicted)"
   ]
  },
  {
   "cell_type": "code",
   "execution_count": 22,
   "metadata": {},
   "outputs": [
    {
     "data": {
      "text/plain": [
       "Confusion Matrix and Statistics\n",
       "\n",
       "          Reference\n",
       "Prediction  0  1\n",
       "         0  5  2\n",
       "         1 11 45\n",
       "                                         \n",
       "               Accuracy : 0.7937         \n",
       "                 95% CI : (0.673, 0.8853)\n",
       "    No Information Rate : 0.746          \n",
       "    P-Value [Acc > NIR] : 0.2383         \n",
       "                                         \n",
       "                  Kappa : 0.3314         \n",
       "                                         \n",
       " Mcnemar's Test P-Value : 0.0265         \n",
       "                                         \n",
       "            Sensitivity : 0.31250        \n",
       "            Specificity : 0.95745        \n",
       "         Pos Pred Value : 0.71429        \n",
       "         Neg Pred Value : 0.80357        \n",
       "             Prevalence : 0.25397        \n",
       "         Detection Rate : 0.07937        \n",
       "   Detection Prevalence : 0.11111        \n",
       "      Balanced Accuracy : 0.63497        \n",
       "                                         \n",
       "       'Positive' Class : 0              \n",
       "                                         "
      ]
     },
     "metadata": {},
     "output_type": "display_data"
    }
   ],
   "source": [
    "model_quality <- confusionMatrix(data = Y_test_predicted, reference = Y_test)\n",
    "model_quality"
   ]
  },
  {
   "cell_type": "markdown",
   "metadata": {},
   "source": [
    "<center><b>Figure 15 </b> Our final model statistics for our data set with all predictors </center>"
   ]
  },
  {
   "cell_type": "markdown",
   "metadata": {},
   "source": [
    "Our final model had an accuracy of 79.4%, which is pretty good! Give our model is in six dimensions, there is no simple visualization for it. However, we can visualize whether or not our model had more false positives or false negatives, and which it was better are predicting: sick or healthy. The confusion matrix gives us all of these values in a 2x2 grid."
   ]
  },
  {
   "cell_type": "code",
   "execution_count": 23,
   "metadata": {},
   "outputs": [
    {
     "data": {
      "image/png": "[encoded data removed]",
      "text/plain": [
       "plot without title"
      ]
     },
     "metadata": {
      "image/png": {
       "height": 300,
       "width": 300
      },
      "text/plain": {
       "height": 300,
       "width": 300
      }
     },
     "output_type": "display_data"
    }
   ],
   "source": [
    "# Create a dataset\n",
    "matrix_table <- as.data.frame(model_quality$table) %>%\n",
    "    mutate(isCorrect = (Prediction == Reference))\n",
    "# matrix_table\n",
    "\n",
    "matrix_plot <- ggplot(matrix_table, aes(fill = isCorrect, x = Reference, y = Freq)) +\n",
    "  geom_bar(position=\"stack\", stat=\"identity\", width = 0.7) + \n",
    "  labs(title = \"Confusion Matrix Bar Chart\", y = \"Frequency\", x = \"Has PD?\") +\n",
    "  scale_fill_discrete(name=\"Correction Prediction?\")\n",
    "matrix_plot"
   ]
  },
  {
   "cell_type": "markdown",
   "metadata": {},
   "source": [
    "<center><b>Figure 16 </b> Visualizing our confusion matrix table; note that on the bottom if 'Has PD?' is 1, this means the patient does have Parkinson's. </center>"
   ]
  },
  {
   "cell_type": "markdown",
   "metadata": {},
   "source": [
    "We noted from the above bar chart that our model was fairly accurate at predicting whether or not a patient *did* have Parkinson's, but were very inaccurate when working with *healthy* patients. This was likely a result of our imbalanced training set, though we did still end up with an 80% accuracy."
   ]
  },
  {
   "cell_type": "markdown",
   "metadata": {},
   "source": [
    "## 6 Discussion\n",
    "### Summary\n",
    "### Impact\n",
    "\n",
    "Being able to predict Parkinson’s accurately has significant impact alone; doctors often struggle to make accurate, timely predictions as Parkinson’s is a long-term degenerative disease. Additionally, there are no specific tests for determining whether or not someone has Parkinson’s. Currently a neurologist must use a combination of other factors like medical history, signs and symptoms, and a physical examination to make a prediction. Speech sounds could be another cheap, fast tool for a neurologist to employ to help them make a more accurate prediction.\n",
    "\n",
    "### Next Steps\n",
    "\n",
    "From this analysis, I could see us moving to three questions for further study:\n",
    "\n",
    "- Can different variables in speech sounds be used to predict other degenerative diseases that have a similar impact on movement? (e.g., Lou Gehrig's disease)\n",
    "- Can other parts of physiology be used as an indicator of whether or not someone has Parkinson’s disease? (e.g., gross or fine motor control)\n",
    "- What other parts of speech sounds could be used to predict Parkinson’s disease? (e.g., as the study suggests (e.g., Q-factor wavelet transform)\n",
    "\n",
    "Beyond these further questions, it would also be interesting to see the use of this model in a practical setting. For example, this model could be used by doctors in combination with the patient's other symptoms to make a more accurate prediction. In fact, [Google](https://www.nature.com/articles/s41586-019-1799-6) has a similar system for breast cancer screening currently under international review. Given countless electronic devices we interact with on a day-to-day basis possess a microphone, this could even be done without the doctor's help. The only catch would be the consumer-facing product would need to give ample warnings about a potential false-negative or false-positive, and would additionally need to be robust enough to collect the relevant variables from a speech sound, like Praat did in collecting the data set used here."
   ]
  },
  {
   "cell_type": "markdown",
   "metadata": {},
   "source": [
    "## 7 References\n",
    "\n",
    "### Works Cited\n",
    "\n",
    "Sakar, C. O., Serbes, G., Gunduz, A., Tunc, H. C., Nizam, H., Sakar, B. E., Apaydin, H. (2019). A comparative analysis of speech signal processing algorithms for parkinson's disease classification and the use of the tunable Q-factor wavelet transform. Applied Soft Computing Journal, 74, 255. doi:10.1016/j.asoc.2018.10.022."
   ]
  }
 ],
 "metadata": {
  "kernelspec": {
   "display_name": "R",
   "language": "R",
   "name": "ir"
  },
  "language_info": {
   "codemirror_mode": "r",
   "file_extension": ".r",
   "mimetype": "text/x-r-source",
   "name": "R",
   "pygments_lexer": "r",
   "version": "4.0.0"
  }
 },
 "nbformat": 4,
 "nbformat_minor": 2
}
